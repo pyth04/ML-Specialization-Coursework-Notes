{
 "cells": [
  {
   "cell_type": "markdown",
   "source": [
    "# Imports and Data Preparation"
   ],
   "metadata": {
    "collapsed": false
   },
   "id": "cb9c212e8a4c6129"
  },
  {
   "cell_type": "code",
   "outputs": [],
   "source": [
    "import numpy as np\n",
    "import matplotlib.pyplot as plt\n",
    "\n",
    "X = np.array([[0.5, 1.5], [1,1], [1.5, 0.5], [3, 0.5], [2, 2], [1, 2.5]])\n",
    "y = np.array([0, 0, 0, 1, 1, 1])\n"
   ],
   "metadata": {
    "collapsed": false,
    "ExecuteTime": {
     "end_time": "2024-02-23T19:57:48.762265400Z",
     "start_time": "2024-02-23T19:57:48.733978300Z"
    }
   },
   "id": "1265ad47f49116aa",
   "execution_count": 9
  },
  {
   "cell_type": "markdown",
   "source": [
    "> ### X represents the features of our dataset, where each inner array is a set of features for one example (like measurements or attributes). y is the label for each example, where 0 or 1 represents the class."
   ],
   "metadata": {
    "collapsed": false
   },
   "id": "b7f26cc1fdf11923"
  },
  {
   "cell_type": "markdown",
   "source": [
    "## Sigmoid Function"
   ],
   "metadata": {
    "collapsed": false
   },
   "id": "a71779a7ae4693a1"
  },
  {
   "cell_type": "code",
   "outputs": [],
   "source": [
    "def sigmoid(z):\n",
    "    return 1 / (1 + np.exp(-z))"
   ],
   "metadata": {
    "collapsed": false,
    "ExecuteTime": {
     "end_time": "2024-02-23T19:58:53.026899200Z",
     "start_time": "2024-02-23T19:58:53.015906300Z"
    }
   },
   "id": "43451f32f7941a42",
   "execution_count": 16
  },
  {
   "cell_type": "markdown",
   "source": [
    "> ### The sigmoid function is a special function that takes any real-valued number and maps it to a value between 0 and 1, which we can interpret as a probability."
   ],
   "metadata": {
    "collapsed": false
   },
   "id": "2b1d1225c4778cac"
  },
  {
   "cell_type": "markdown",
   "source": [
    "## Cost Function"
   ],
   "metadata": {
    "collapsed": false
   },
   "id": "c2675d510a2c7f3b"
  },
  {
   "cell_type": "code",
   "outputs": [],
   "source": [
    "def compute_cost(X, y, w, b):\n",
    "    m = len(y)\n",
    "    predictions = sigmoid(np.dot(X, w) + b)\n",
    "    cost = -(1/m) * np.sum(y * np.log(predictions) + (1 - y) * np.log(1 - predictions))\n",
    "    return cost"
   ],
   "metadata": {
    "collapsed": false,
    "ExecuteTime": {
     "end_time": "2024-02-23T19:57:48.806873500Z",
     "start_time": "2024-02-23T19:57:48.789464Z"
    }
   },
   "id": "56abce9acbf9d0e5",
   "execution_count": 11
  },
  {
   "cell_type": "markdown",
   "source": [
    "> ### The compute_cost function calculates how well our model is doing. It does this by comparing the predicted probabilities (from the sigmoid function) to the actual labels (y). The closer our predictions are to the actual labels, the lower our cost will be."
   ],
   "metadata": {
    "collapsed": false
   },
   "id": "d85422d2262dcee0"
  },
  {
   "cell_type": "markdown",
   "source": [
    "## Gradient Computation"
   ],
   "metadata": {
    "collapsed": false
   },
   "id": "a3e18db1d88696c9"
  },
  {
   "cell_type": "code",
   "outputs": [],
   "source": [
    "def compute_gradient(X, y, w, b):\n",
    "    m, n = X.shape  # m is the number of examples, n is the number of features\n",
    "    dj_dw = np.zeros((n,))  # Initialize the gradient for w to zero\n",
    "    dj_db = 0.  # Initialize the gradient for b to zero\n",
    "\n",
    "    for i in range(m):  # Loop over all examples\n",
    "        f_wb_i = sigmoid(np.dot(X[i], w) + b)  # Compute the prediction for example i\n",
    "        err_i = f_wb_i - y[i]  # Calculate the error for example i\n",
    "        for j in range(n):  # Loop over all features\n",
    "            dj_dw[j] += err_i * X[i, j]  # Accumulate the gradient for w[j]\n",
    "        dj_db += err_i  # Accumulate the gradient for b\n",
    "\n",
    "    dj_dw /= m  # Average the gradient for w over all examples\n",
    "    dj_db /= m  # Average the gradient for b over all examples\n",
    "\n",
    "    return dj_dw, dj_db  # Return the gradients\n"
   ],
   "metadata": {
    "collapsed": false,
    "ExecuteTime": {
     "end_time": "2024-02-23T19:57:48.837565700Z",
     "start_time": "2024-02-23T19:57:48.803650700Z"
    }
   },
   "id": "b3213e0cf8e8ac1d",
   "execution_count": 12
  },
  {
   "cell_type": "markdown",
   "source": [
    "> ### The compute_gradient function calculates the gradient, which tells us the direction to adjust our parameters (w and b) to reduce the cost. Think of it as a compass guiding us down a hill to the lowest point (the minimum cost)."
   ],
   "metadata": {
    "collapsed": false
   },
   "id": "2b2a4c62f73965d6"
  },
  {
   "cell_type": "markdown",
   "source": [
    "## Gradient Descent"
   ],
   "metadata": {
    "collapsed": false
   },
   "id": "f1ca284517df8a0b"
  },
  {
   "cell_type": "code",
   "outputs": [],
   "source": [],
   "metadata": {
    "collapsed": false,
    "ExecuteTime": {
     "end_time": "2024-02-23T19:57:48.838670100Z",
     "start_time": "2024-02-23T19:57:48.819370200Z"
    }
   },
   "id": "8c946384f97d5939",
   "execution_count": 12
  },
  {
   "cell_type": "code",
   "outputs": [],
   "source": [
    "def gradient_descent(X, y, w_in, b_in, alpha, iterations):\n",
    "    m, n = X.shape  # m is the number of examples, n is the number of features\n",
    "    w = w_in.copy()  # Make a copy of the initial weights to avoid changing them outside the function\n",
    "    b = b_in  # Start with the initial bias\n",
    "    cost_history = []  # List to store the cost at each iteration\n",
    "\n",
    "    for i in range(iterations):  # Loop over the number of iterations\n",
    "        dj_dw, dj_db = compute_gradient(X, y, w, b)  # Compute gradients\n",
    "        w -= alpha * dj_dw  # Update weights w by moving against the gradient\n",
    "        b -= alpha * dj_db  # Update bias b by moving against the gradient\n",
    "        cost_history.append(compute_cost(X, y, w, b))  # Compute and store the cost\n",
    "\n",
    "    return w, b, cost_history  # Return the optimized weights, bias and cost history"
   ],
   "metadata": {
    "collapsed": false,
    "ExecuteTime": {
     "end_time": "2024-02-23T19:57:48.857013900Z",
     "start_time": "2024-02-23T19:57:48.835354Z"
    }
   },
   "id": "bb0fab116b46363d",
   "execution_count": 13
  },
  {
   "cell_type": "markdown",
   "source": [
    "> ### The gradient_descent function is where the learning happens. It repeatedly takes steps in the direction suggested by the compute_gradient function to find the best parameters (w and b) that minimize our cost. The size of these steps is determined by the learning rate (alpha), and we take as many steps as the number of iterations we've set."
   ],
   "metadata": {
    "collapsed": false
   },
   "id": "124f38d56002c692"
  },
  {
   "cell_type": "markdown",
   "source": [
    "## Training the Model"
   ],
   "metadata": {
    "collapsed": false
   },
   "id": "b52131fd2d64cd18"
  },
  {
   "cell_type": "code",
   "outputs": [],
   "source": [
    "# Set initial values for the model parameters\n",
    "w_initial = np.zeros(X.shape[1])  # Initialize weights w to zeros\n",
    "b_initial = 0  # Initialize bias b to zero\n",
    "\n",
    "# Set hyperparameters for the gradient descent algorithm\n",
    "alpha = 0.01  # Set learning rate to 0.01\n",
    "iterations = 1000  # Set the number of iterations to 1000\n",
    "\n",
    "# Run the gradient descent algorithm to optimize w and b\n",
    "w_optimal, b_optimal, cost_history = gradient_descent(X, y, w_initial, b_initial, alpha, iterations)"
   ],
   "metadata": {
    "collapsed": false,
    "ExecuteTime": {
     "end_time": "2024-02-23T20:02:46.774919800Z",
     "start_time": "2024-02-23T20:02:46.706927500Z"
    }
   },
   "id": "a71a03b99644bdc",
   "execution_count": 17
  },
  {
   "cell_type": "markdown",
   "source": [
    "> ### Before training starts, we initialize our parameters w and b. We set a learning rate alpha and the number of iterations. The gradient_descent function then uses these to train the model, which means it finds the best values for w and b that make our predictions as accurate as possible."
   ],
   "metadata": {
    "collapsed": false
   },
   "id": "9aa9997177a3773f"
  },
  {
   "cell_type": "markdown",
   "source": [
    "## Plotting the Cost Function"
   ],
   "metadata": {
    "collapsed": false
   },
   "id": "7128109245e06bdb"
  },
  {
   "cell_type": "code",
   "outputs": [
    {
     "data": {
      "text/plain": "<Figure size 640x480 with 1 Axes>",
      "image/png": "[encoded data removed]"
     },
     "metadata": {},
     "output_type": "display_data"
    }
   ],
   "source": [
    "plt.plot(cost_history)\n",
    "plt.xlabel('Iteration')\n",
    "plt.ylabel('Cost')\n",
    "plt.title('Cost Function Over Iterations')\n",
    "plt.show()"
   ],
   "metadata": {
    "collapsed": false,
    "ExecuteTime": {
     "end_time": "2024-02-23T19:57:49.067325200Z",
     "start_time": "2024-02-23T19:57:48.936603900Z"
    }
   },
   "id": "55eb71a2d5d42536",
   "execution_count": 15
  },
  {
   "cell_type": "markdown",
   "source": [
    "> ### Finally, we plot our cost over each iteration. If we see the cost going down over time, it means our model is learning and improving."
   ],
   "metadata": {
    "collapsed": false
   },
   "id": "1ba1fa9639670978"
  },
  {
   "cell_type": "markdown",
   "source": [
    "### Summary\n",
    "In summary, this code is teaching a logistic regression model how to classify examples into two classes. It does this by:\n",
    "\n",
    "1. Starting with some initial guesses for the parameters (w and b).\n",
    "2. Measuring how well these parameters predict the correct class using the cost function.\n",
    "3. Using gradient descent to adjust the parameters in the right direction to improve predictions.\n",
    "4. Repeating steps 2 and 3 multiple times until the parameters are as good as they can be.\n",
    "> After this process, we have w_optimal and b_optimal, which can be used to make predictions on new data, and the cost_history shows us how the model improved over time."
   ],
   "metadata": {
    "collapsed": false
   },
   "id": "2da7742e93a229ab"
  }
 ],
 "metadata": {
  "kernelspec": {
   "display_name": "Python 3",
   "language": "python",
   "name": "python3"
  },
  "language_info": {
   "codemirror_mode": {
    "name": "ipython",
    "version": 2
   },
   "file_extension": ".py",
   "mimetype": "text/x-python",
   "name": "python",
   "nbconvert_exporter": "python",
   "pygments_lexer": "ipython2",
   "version": "2.7.6"
  }
 },
 "nbformat": 4,
 "nbformat_minor": 5
}
